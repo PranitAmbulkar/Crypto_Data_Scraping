{
  "nbformat": 4,
  "nbformat_minor": 0,
  "metadata": {
    "colab": {
      "provenance": []
    },
    "kernelspec": {
      "name": "python3",
      "display_name": "Python 3"
    },
    "language_info": {
      "name": "python"
    }
  },
  "cells": [
    {
      "cell_type": "code",
      "execution_count": null,
      "metadata": {
        "id": "W0yJh3tUzJNi"
      },
      "outputs": [],
      "source": [
        "import requests\n",
        "from bs4 import BeautifulSoup\n",
        "import gspread\n",
        "from oauth2client.service_account import ServiceAccountCredentials\n",
        "from time import sleep\n",
        "\n",
        "# Function to scrape real-time price data for the top 20 cryptocurrencies from Mudrex\n",
        "def scrape_mudrex():\n",
        "    url = \"https://mudrex.com/all-cryptocurrencies\"\n",
        "    response = requests.get(url)\n",
        "    soup = BeautifulSoup(response.text, 'html.parser')\n",
        "\n",
        "    # table containing cryptocurrency data\n",
        "    table = soup.find('table', class_='min-w-[25rem] max-w-full md:w-full mb-4 text-[#212529]')\n",
        "\n",
        "    # Extract top 20 cryptocurrency names and prices\n",
        "    crypto_data = {}\n",
        "    for row in table.find_all('tr')[1:21]:\n",
        "        cols = row.find_all('td')\n",
        "        name = cols[1].text.strip()\n",
        "        price = cols[2].text.strip()\n",
        "        crypto_data[name] = price\n",
        "\n",
        "    return crypto_data\n",
        "\n",
        "# Function to update Google Sheet with the scraped data\n",
        "def update_google_sheet(data):\n",
        "    # Authenticating with Google Sheets API\n",
        "    scope = ['https://spreadsheets.google.com/feeds',\n",
        "             'https://www.googleapis.com/auth/drive']\n",
        "    creds = ServiceAccountCredentials.from_json_keyfile_name('/content/drive/MyDrive/Grull works assignment/grull-works-assignment-0be3d1be47d0.json', scope)\n",
        "    client = gspread.authorize(creds)\n",
        "\n",
        "    # Opening the Google Sheet\n",
        "    sheet = client.open('Crypto Prices').sheet1\n",
        "\n",
        "    # Clearing the existing data in the sheet\n",
        "    sheet.clear()\n",
        "\n",
        "    # Updating the header row\n",
        "    header = ['Cryptocurrency', 'Price']\n",
        "    sheet.append_row(header)\n",
        "\n",
        "    # Updating the sheet with the new data\n",
        "    for crypto, price in data.items():\n",
        "        sheet.append_row([crypto, price])\n",
        "\n",
        "# Main function\n",
        "def main():\n",
        "    while True:\n",
        "        # Scraping data from Mudrex\n",
        "        crypto_data = scrape_mudrex()\n",
        "\n",
        "        # Updating the Google Sheet\n",
        "        update_google_sheet(crypto_data)\n",
        "\n",
        "        # Waiting for one minute before scraping and updating again\n",
        "        sleep(60)\n",
        "\n",
        "if __name__ == \"__main__\":\n",
        "    main()\n"
      ]
    },
    {
      "cell_type": "code",
      "source": [],
      "metadata": {
        "id": "a6tiftZH-mOd"
      },
      "execution_count": null,
      "outputs": []
    }
  ]
}